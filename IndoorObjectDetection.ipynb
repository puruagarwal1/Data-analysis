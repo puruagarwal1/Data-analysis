{
 "cells": [
  {
   "cell_type": "code",
   "execution_count": 14,
   "metadata": {},
   "outputs": [
    {
     "name": "stdout",
     "output_type": "stream",
     "text": [
      "Requirement already satisfied: roboflow in c:\\users\\jkapi\\.virtualenvs\\jkapi-0ggu7fal\\lib\\site-packages (1.1.27)\n",
      "Requirement already satisfied: certifi==2023.7.22 in c:\\users\\jkapi\\.virtualenvs\\jkapi-0ggu7fal\\lib\\site-packages (from roboflow) (2023.7.22)\n",
      "Requirement already satisfied: chardet==4.0.0 in c:\\users\\jkapi\\.virtualenvs\\jkapi-0ggu7fal\\lib\\site-packages (from roboflow) (4.0.0)\n",
      "Requirement already satisfied: cycler==0.10.0 in c:\\users\\jkapi\\.virtualenvs\\jkapi-0ggu7fal\\lib\\site-packages (from roboflow) (0.10.0)\n",
      "Requirement already satisfied: idna==2.10 in c:\\users\\jkapi\\.virtualenvs\\jkapi-0ggu7fal\\lib\\site-packages (from roboflow) (2.10)\n",
      "Requirement already satisfied: kiwisolver>=1.3.1 in c:\\users\\jkapi\\.virtualenvs\\jkapi-0ggu7fal\\lib\\site-packages (from roboflow) (1.4.5)\n",
      "Requirement already satisfied: matplotlib in c:\\users\\jkapi\\.virtualenvs\\jkapi-0ggu7fal\\lib\\site-packages (from roboflow) (3.8.0)\n",
      "Requirement already satisfied: numpy>=1.18.5 in c:\\users\\jkapi\\.virtualenvs\\jkapi-0ggu7fal\\lib\\site-packages (from roboflow) (1.23.5)\n",
      "Requirement already satisfied: opencv-python-headless==4.8.0.74 in c:\\users\\jkapi\\.virtualenvs\\jkapi-0ggu7fal\\lib\\site-packages (from roboflow) (4.8.0.74)\n",
      "Requirement already satisfied: Pillow>=7.1.2 in c:\\users\\jkapi\\.virtualenvs\\jkapi-0ggu7fal\\lib\\site-packages (from roboflow) (10.3.0)\n",
      "Requirement already satisfied: python-dateutil in c:\\users\\jkapi\\.virtualenvs\\jkapi-0ggu7fal\\lib\\site-packages (from roboflow) (2.8.2)\n",
      "Requirement already satisfied: python-dotenv in c:\\users\\jkapi\\.virtualenvs\\jkapi-0ggu7fal\\lib\\site-packages (from roboflow) (1.0.1)\n",
      "Requirement already satisfied: requests in c:\\users\\jkapi\\.virtualenvs\\jkapi-0ggu7fal\\lib\\site-packages (from roboflow) (2.28.2)\n",
      "Requirement already satisfied: six in c:\\users\\jkapi\\.virtualenvs\\jkapi-0ggu7fal\\lib\\site-packages (from roboflow) (1.16.0)\n",
      "Requirement already satisfied: urllib3>=1.26.6 in c:\\users\\jkapi\\.virtualenvs\\jkapi-0ggu7fal\\lib\\site-packages (from roboflow) (1.26.14)\n",
      "Requirement already satisfied: tqdm>=4.41.0 in c:\\users\\jkapi\\.virtualenvs\\jkapi-0ggu7fal\\lib\\site-packages (from roboflow) (4.65.0)\n",
      "Requirement already satisfied: PyYAML>=5.3.1 in c:\\users\\jkapi\\.virtualenvs\\jkapi-0ggu7fal\\lib\\site-packages (from roboflow) (6.0)\n",
      "Requirement already satisfied: requests-toolbelt in c:\\users\\jkapi\\.virtualenvs\\jkapi-0ggu7fal\\lib\\site-packages (from roboflow) (1.0.0)\n",
      "Requirement already satisfied: python-magic in c:\\users\\jkapi\\.virtualenvs\\jkapi-0ggu7fal\\lib\\site-packages (from roboflow) (0.4.27)\n",
      "Requirement already satisfied: colorama in c:\\users\\jkapi\\.virtualenvs\\jkapi-0ggu7fal\\lib\\site-packages (from tqdm>=4.41.0->roboflow) (0.4.6)\n",
      "Requirement already satisfied: contourpy>=1.0.1 in c:\\users\\jkapi\\.virtualenvs\\jkapi-0ggu7fal\\lib\\site-packages (from matplotlib->roboflow) (1.1.1)\n",
      "Requirement already satisfied: fonttools>=4.22.0 in c:\\users\\jkapi\\.virtualenvs\\jkapi-0ggu7fal\\lib\\site-packages (from matplotlib->roboflow) (4.43.1)\n",
      "Requirement already satisfied: packaging>=20.0 in c:\\users\\jkapi\\.virtualenvs\\jkapi-0ggu7fal\\lib\\site-packages (from matplotlib->roboflow) (23.1)\n",
      "Requirement already satisfied: pyparsing>=2.3.1 in c:\\users\\jkapi\\.virtualenvs\\jkapi-0ggu7fal\\lib\\site-packages (from matplotlib->roboflow) (3.1.1)\n",
      "Requirement already satisfied: charset-normalizer<4,>=2 in c:\\users\\jkapi\\.virtualenvs\\jkapi-0ggu7fal\\lib\\site-packages (from requests->roboflow) (2.1.1)\n"
     ]
    },
    {
     "name": "stderr",
     "output_type": "stream",
     "text": [
      "\n",
      "[notice] A new release of pip is available: 24.1 -> 24.2\n",
      "[notice] To update, run: python.exe -m pip install --upgrade pip\n"
     ]
    }
   ],
   "source": [
    "!pip install roboflow\n"
   ]
  },
  {
   "cell_type": "code",
   "execution_count": 15,
   "metadata": {},
   "outputs": [
    {
     "name": "stdout",
     "output_type": "stream",
     "text": [
      "c:\\Work\\Coding\\Celebal\\week10\\yolov7\n"
     ]
    },
    {
     "name": "stderr",
     "output_type": "stream",
     "text": [
      "fatal: destination path 'yolov7' already exists and is not an empty directory.\n"
     ]
    },
    {
     "name": "stdout",
     "output_type": "stream",
     "text": [
      "Requirement already satisfied: matplotlib>=3.2.2 in c:\\users\\jkapi\\.virtualenvs\\jkapi-0ggu7fal\\lib\\site-packages (from -r requirements.txt (line 4)) (3.8.0)\n",
      "Requirement already satisfied: numpy<1.24.0,>=1.18.5 in c:\\users\\jkapi\\.virtualenvs\\jkapi-0ggu7fal\\lib\\site-packages (from -r requirements.txt (line 5)) (1.23.5)\n",
      "Requirement already satisfied: opencv-python>=4.1.1 in c:\\users\\jkapi\\.virtualenvs\\jkapi-0ggu7fal\\lib\\site-packages (from -r requirements.txt (line 6)) (4.7.0.72)\n",
      "Requirement already satisfied: Pillow>=7.1.2 in c:\\users\\jkapi\\.virtualenvs\\jkapi-0ggu7fal\\lib\\site-packages (from -r requirements.txt (line 7)) (10.3.0)\n",
      "Requirement already satisfied: PyYAML>=5.3.1 in c:\\users\\jkapi\\.virtualenvs\\jkapi-0ggu7fal\\lib\\site-packages (from -r requirements.txt (line 8)) (6.0)\n",
      "Requirement already satisfied: requests>=2.23.0 in c:\\users\\jkapi\\.virtualenvs\\jkapi-0ggu7fal\\lib\\site-packages (from -r requirements.txt (line 9)) (2.28.2)\n",
      "Requirement already satisfied: scipy>=1.4.1 in c:\\users\\jkapi\\.virtualenvs\\jkapi-0ggu7fal\\lib\\site-packages (from -r requirements.txt (line 10)) (1.11.1)\n",
      "Requirement already satisfied: torch!=1.12.0,>=1.7.0 in c:\\users\\jkapi\\.virtualenvs\\jkapi-0ggu7fal\\lib\\site-packages (from -r requirements.txt (line 11)) (2.2.1)\n",
      "Requirement already satisfied: torchvision!=0.13.0,>=0.8.1 in c:\\users\\jkapi\\.virtualenvs\\jkapi-0ggu7fal\\lib\\site-packages (from -r requirements.txt (line 12)) (0.17.1)\n",
      "Requirement already satisfied: tqdm>=4.41.0 in c:\\users\\jkapi\\.virtualenvs\\jkapi-0ggu7fal\\lib\\site-packages (from -r requirements.txt (line 13)) (4.65.0)\n",
      "Requirement already satisfied: protobuf<4.21.3 in c:\\users\\jkapi\\.virtualenvs\\jkapi-0ggu7fal\\lib\\site-packages (from -r requirements.txt (line 14)) (4.21.2)\n",
      "Requirement already satisfied: tensorboard>=2.4.1 in c:\\users\\jkapi\\.virtualenvs\\jkapi-0ggu7fal\\lib\\site-packages (from -r requirements.txt (line 17)) (2.13.0)\n",
      "Requirement already satisfied: pandas>=1.1.4 in c:\\users\\jkapi\\.virtualenvs\\jkapi-0ggu7fal\\lib\\site-packages (from -r requirements.txt (line 21)) (1.5.3)\n",
      "Requirement already satisfied: seaborn>=0.11.0 in c:\\users\\jkapi\\.virtualenvs\\jkapi-0ggu7fal\\lib\\site-packages (from -r requirements.txt (line 22)) (0.13.2)\n",
      "Requirement already satisfied: ipython in c:\\users\\jkapi\\.virtualenvs\\jkapi-0ggu7fal\\lib\\site-packages (from -r requirements.txt (line 34)) (8.14.0)\n",
      "Requirement already satisfied: psutil in c:\\users\\jkapi\\.virtualenvs\\jkapi-0ggu7fal\\lib\\site-packages (from -r requirements.txt (line 35)) (5.9.5)\n",
      "Requirement already satisfied: thop in c:\\users\\jkapi\\.virtualenvs\\jkapi-0ggu7fal\\lib\\site-packages (from -r requirements.txt (line 36)) (0.1.1.post2209072238)\n",
      "Requirement already satisfied: contourpy>=1.0.1 in c:\\users\\jkapi\\.virtualenvs\\jkapi-0ggu7fal\\lib\\site-packages (from matplotlib>=3.2.2->-r requirements.txt (line 4)) (1.1.1)\n",
      "Requirement already satisfied: cycler>=0.10 in c:\\users\\jkapi\\.virtualenvs\\jkapi-0ggu7fal\\lib\\site-packages (from matplotlib>=3.2.2->-r requirements.txt (line 4)) (0.10.0)\n",
      "Requirement already satisfied: fonttools>=4.22.0 in c:\\users\\jkapi\\.virtualenvs\\jkapi-0ggu7fal\\lib\\site-packages (from matplotlib>=3.2.2->-r requirements.txt (line 4)) (4.43.1)\n",
      "Requirement already satisfied: kiwisolver>=1.0.1 in c:\\users\\jkapi\\.virtualenvs\\jkapi-0ggu7fal\\lib\\site-packages (from matplotlib>=3.2.2->-r requirements.txt (line 4)) (1.4.5)\n",
      "Requirement already satisfied: packaging>=20.0 in c:\\users\\jkapi\\.virtualenvs\\jkapi-0ggu7fal\\lib\\site-packages (from matplotlib>=3.2.2->-r requirements.txt (line 4)) (23.1)\n",
      "Requirement already satisfied: pyparsing>=2.3.1 in c:\\users\\jkapi\\.virtualenvs\\jkapi-0ggu7fal\\lib\\site-packages (from matplotlib>=3.2.2->-r requirements.txt (line 4)) (3.1.1)\n",
      "Requirement already satisfied: python-dateutil>=2.7 in c:\\users\\jkapi\\.virtualenvs\\jkapi-0ggu7fal\\lib\\site-packages (from matplotlib>=3.2.2->-r requirements.txt (line 4)) (2.8.2)\n",
      "Requirement already satisfied: charset-normalizer<4,>=2 in c:\\users\\jkapi\\.virtualenvs\\jkapi-0ggu7fal\\lib\\site-packages (from requests>=2.23.0->-r requirements.txt (line 9)) (2.1.1)\n",
      "Requirement already satisfied: idna<4,>=2.5 in c:\\users\\jkapi\\.virtualenvs\\jkapi-0ggu7fal\\lib\\site-packages (from requests>=2.23.0->-r requirements.txt (line 9)) (2.10)\n",
      "Requirement already satisfied: urllib3<1.27,>=1.21.1 in c:\\users\\jkapi\\.virtualenvs\\jkapi-0ggu7fal\\lib\\site-packages (from requests>=2.23.0->-r requirements.txt (line 9)) (1.26.14)\n",
      "Requirement already satisfied: certifi>=2017.4.17 in c:\\users\\jkapi\\.virtualenvs\\jkapi-0ggu7fal\\lib\\site-packages (from requests>=2.23.0->-r requirements.txt (line 9)) (2023.7.22)\n",
      "Requirement already satisfied: filelock in c:\\users\\jkapi\\.virtualenvs\\jkapi-0ggu7fal\\lib\\site-packages (from torch!=1.12.0,>=1.7.0->-r requirements.txt (line 11)) (3.13.1)\n",
      "Requirement already satisfied: typing-extensions>=4.8.0 in c:\\users\\jkapi\\.virtualenvs\\jkapi-0ggu7fal\\lib\\site-packages (from torch!=1.12.0,>=1.7.0->-r requirements.txt (line 11)) (4.12.2)\n",
      "Requirement already satisfied: sympy in c:\\users\\jkapi\\.virtualenvs\\jkapi-0ggu7fal\\lib\\site-packages (from torch!=1.12.0,>=1.7.0->-r requirements.txt (line 11)) (1.12)\n",
      "Requirement already satisfied: networkx in c:\\users\\jkapi\\.virtualenvs\\jkapi-0ggu7fal\\lib\\site-packages (from torch!=1.12.0,>=1.7.0->-r requirements.txt (line 11)) (3.2.1)\n",
      "Requirement already satisfied: jinja2 in c:\\users\\jkapi\\.virtualenvs\\jkapi-0ggu7fal\\lib\\site-packages (from torch!=1.12.0,>=1.7.0->-r requirements.txt (line 11)) (3.1.2)\n",
      "Requirement already satisfied: fsspec in c:\\users\\jkapi\\.virtualenvs\\jkapi-0ggu7fal\\lib\\site-packages (from torch!=1.12.0,>=1.7.0->-r requirements.txt (line 11)) (2024.2.0)\n",
      "Requirement already satisfied: colorama in c:\\users\\jkapi\\.virtualenvs\\jkapi-0ggu7fal\\lib\\site-packages (from tqdm>=4.41.0->-r requirements.txt (line 13)) (0.4.6)\n",
      "Requirement already satisfied: absl-py>=0.4 in c:\\users\\jkapi\\.virtualenvs\\jkapi-0ggu7fal\\lib\\site-packages (from tensorboard>=2.4.1->-r requirements.txt (line 17)) (1.4.0)\n",
      "Requirement already satisfied: grpcio>=1.48.2 in c:\\users\\jkapi\\.virtualenvs\\jkapi-0ggu7fal\\lib\\site-packages (from tensorboard>=2.4.1->-r requirements.txt (line 17)) (1.56.2)\n",
      "Requirement already satisfied: google-auth<3,>=1.6.3 in c:\\users\\jkapi\\.virtualenvs\\jkapi-0ggu7fal\\lib\\site-packages (from tensorboard>=2.4.1->-r requirements.txt (line 17)) (2.22.0)\n",
      "Requirement already satisfied: google-auth-oauthlib<1.1,>=0.5 in c:\\users\\jkapi\\.virtualenvs\\jkapi-0ggu7fal\\lib\\site-packages (from tensorboard>=2.4.1->-r requirements.txt (line 17)) (1.0.0)\n",
      "Requirement already satisfied: markdown>=2.6.8 in c:\\users\\jkapi\\.virtualenvs\\jkapi-0ggu7fal\\lib\\site-packages (from tensorboard>=2.4.1->-r requirements.txt (line 17)) (3.4.3)\n",
      "Requirement already satisfied: setuptools>=41.0.0 in c:\\users\\jkapi\\.virtualenvs\\jkapi-0ggu7fal\\lib\\site-packages (from tensorboard>=2.4.1->-r requirements.txt (line 17)) (67.1.0)\n",
      "Requirement already satisfied: tensorboard-data-server<0.8.0,>=0.7.0 in c:\\users\\jkapi\\.virtualenvs\\jkapi-0ggu7fal\\lib\\site-packages (from tensorboard>=2.4.1->-r requirements.txt (line 17)) (0.7.1)\n",
      "Requirement already satisfied: werkzeug>=1.0.1 in c:\\users\\jkapi\\.virtualenvs\\jkapi-0ggu7fal\\lib\\site-packages (from tensorboard>=2.4.1->-r requirements.txt (line 17)) (2.3.6)\n",
      "Requirement already satisfied: wheel>=0.26 in c:\\users\\jkapi\\.virtualenvs\\jkapi-0ggu7fal\\lib\\site-packages (from tensorboard>=2.4.1->-r requirements.txt (line 17)) (0.38.4)\n",
      "Requirement already satisfied: pytz>=2020.1 in c:\\users\\jkapi\\.virtualenvs\\jkapi-0ggu7fal\\lib\\site-packages (from pandas>=1.1.4->-r requirements.txt (line 21)) (2022.7.1)\n",
      "Requirement already satisfied: backcall in c:\\users\\jkapi\\.virtualenvs\\jkapi-0ggu7fal\\lib\\site-packages (from ipython->-r requirements.txt (line 34)) (0.2.0)\n",
      "Requirement already satisfied: decorator in c:\\users\\jkapi\\.virtualenvs\\jkapi-0ggu7fal\\lib\\site-packages (from ipython->-r requirements.txt (line 34)) (5.1.1)\n",
      "Requirement already satisfied: jedi>=0.16 in c:\\users\\jkapi\\.virtualenvs\\jkapi-0ggu7fal\\lib\\site-packages (from ipython->-r requirements.txt (line 34)) (0.19.0)\n",
      "Requirement already satisfied: matplotlib-inline in c:\\users\\jkapi\\.virtualenvs\\jkapi-0ggu7fal\\lib\\site-packages (from ipython->-r requirements.txt (line 34)) (0.1.6)\n",
      "Requirement already satisfied: pickleshare in c:\\users\\jkapi\\.virtualenvs\\jkapi-0ggu7fal\\lib\\site-packages (from ipython->-r requirements.txt (line 34)) (0.7.5)\n",
      "Requirement already satisfied: prompt-toolkit!=3.0.37,<3.1.0,>=3.0.30 in c:\\users\\jkapi\\.virtualenvs\\jkapi-0ggu7fal\\lib\\site-packages (from ipython->-r requirements.txt (line 34)) (3.0.39)\n",
      "Requirement already satisfied: pygments>=2.4.0 in c:\\users\\jkapi\\.virtualenvs\\jkapi-0ggu7fal\\lib\\site-packages (from ipython->-r requirements.txt (line 34)) (2.15.1)\n",
      "Requirement already satisfied: stack-data in c:\\users\\jkapi\\.virtualenvs\\jkapi-0ggu7fal\\lib\\site-packages (from ipython->-r requirements.txt (line 34)) (0.6.2)\n",
      "Requirement already satisfied: traitlets>=5 in c:\\users\\jkapi\\.virtualenvs\\jkapi-0ggu7fal\\lib\\site-packages (from ipython->-r requirements.txt (line 34)) (5.9.0)\n",
      "Requirement already satisfied: six in c:\\users\\jkapi\\.virtualenvs\\jkapi-0ggu7fal\\lib\\site-packages (from cycler>=0.10->matplotlib>=3.2.2->-r requirements.txt (line 4)) (1.16.0)\n",
      "Requirement already satisfied: cachetools<6.0,>=2.0.0 in c:\\users\\jkapi\\.virtualenvs\\jkapi-0ggu7fal\\lib\\site-packages (from google-auth<3,>=1.6.3->tensorboard>=2.4.1->-r requirements.txt (line 17)) (5.3.1)\n",
      "Requirement already satisfied: pyasn1-modules>=0.2.1 in c:\\users\\jkapi\\.virtualenvs\\jkapi-0ggu7fal\\lib\\site-packages (from google-auth<3,>=1.6.3->tensorboard>=2.4.1->-r requirements.txt (line 17)) (0.3.0)\n",
      "Requirement already satisfied: rsa<5,>=3.1.4 in c:\\users\\jkapi\\.virtualenvs\\jkapi-0ggu7fal\\lib\\site-packages (from google-auth<3,>=1.6.3->tensorboard>=2.4.1->-r requirements.txt (line 17)) (4.9)\n",
      "Requirement already satisfied: requests-oauthlib>=0.7.0 in c:\\users\\jkapi\\.virtualenvs\\jkapi-0ggu7fal\\lib\\site-packages (from google-auth-oauthlib<1.1,>=0.5->tensorboard>=2.4.1->-r requirements.txt (line 17)) (1.3.1)\n",
      "Requirement already satisfied: parso<0.9.0,>=0.8.3 in c:\\users\\jkapi\\.virtualenvs\\jkapi-0ggu7fal\\lib\\site-packages (from jedi>=0.16->ipython->-r requirements.txt (line 34)) (0.8.3)\n",
      "Requirement already satisfied: wcwidth in c:\\users\\jkapi\\.virtualenvs\\jkapi-0ggu7fal\\lib\\site-packages (from prompt-toolkit!=3.0.37,<3.1.0,>=3.0.30->ipython->-r requirements.txt (line 34)) (0.2.6)\n",
      "Requirement already satisfied: MarkupSafe>=2.1.1 in c:\\users\\jkapi\\.virtualenvs\\jkapi-0ggu7fal\\lib\\site-packages (from werkzeug>=1.0.1->tensorboard>=2.4.1->-r requirements.txt (line 17)) (2.1.3)\n",
      "Requirement already satisfied: executing>=1.2.0 in c:\\users\\jkapi\\.virtualenvs\\jkapi-0ggu7fal\\lib\\site-packages (from stack-data->ipython->-r requirements.txt (line 34)) (1.2.0)\n",
      "Requirement already satisfied: asttokens>=2.1.0 in c:\\users\\jkapi\\.virtualenvs\\jkapi-0ggu7fal\\lib\\site-packages (from stack-data->ipython->-r requirements.txt (line 34)) (2.2.1)\n",
      "Requirement already satisfied: pure-eval in c:\\users\\jkapi\\.virtualenvs\\jkapi-0ggu7fal\\lib\\site-packages (from stack-data->ipython->-r requirements.txt (line 34)) (0.2.2)\n",
      "Requirement already satisfied: mpmath>=0.19 in c:\\users\\jkapi\\.virtualenvs\\jkapi-0ggu7fal\\lib\\site-packages (from sympy->torch!=1.12.0,>=1.7.0->-r requirements.txt (line 11)) (1.3.0)\n",
      "Requirement already satisfied: pyasn1<0.6.0,>=0.4.6 in c:\\users\\jkapi\\.virtualenvs\\jkapi-0ggu7fal\\lib\\site-packages (from pyasn1-modules>=0.2.1->google-auth<3,>=1.6.3->tensorboard>=2.4.1->-r requirements.txt (line 17)) (0.5.0)\n",
      "Requirement already satisfied: oauthlib>=3.0.0 in c:\\users\\jkapi\\.virtualenvs\\jkapi-0ggu7fal\\lib\\site-packages (from requests-oauthlib>=0.7.0->google-auth-oauthlib<1.1,>=0.5->tensorboard>=2.4.1->-r requirements.txt (line 17)) (3.2.2)\n"
     ]
    },
    {
     "name": "stderr",
     "output_type": "stream",
     "text": [
      "\n",
      "[notice] A new release of pip is available: 24.1 -> 24.2\n",
      "[notice] To update, run: python.exe -m pip install --upgrade pip\n"
     ]
    }
   ],
   "source": [
    "!git clone https://github.com/WongKinYiu/yolov7\n",
    "%cd yolov7\n",
    "!pip install -r requirements.txt\n"
   ]
  },
  {
   "cell_type": "code",
   "execution_count": 16,
   "metadata": {},
   "outputs": [
    {
     "name": "stdout",
     "output_type": "stream",
     "text": [
      "loading Roboflow workspace...\n",
      "loading Roboflow project...\n"
     ]
    },
    {
     "name": "stderr",
     "output_type": "stream",
     "text": [
      "Downloading Dataset Version Zip in all_finalize--3 to yolov7pytorch:: 100%|██████████| 247001/247001 [02:02<00:00, 2019.50it/s]"
     ]
    },
    {
     "name": "stdout",
     "output_type": "stream",
     "text": [
      "\n"
     ]
    },
    {
     "name": "stderr",
     "output_type": "stream",
     "text": [
      "\n",
      "Extracting Dataset Version Zip to all_finalize--3 in yolov7pytorch:: 100%|██████████| 12566/12566 [00:09<00:00, 1270.58it/s]\n"
     ]
    }
   ],
   "source": [
    "from roboflow import Roboflow\n",
    "rf = Roboflow(api_key=\"K9O5PZDBKinUAnypJ74t\")\n",
    "project = rf.workspace(\"so-d4hcz\").project(\"all_finalize\")\n",
    "version = project.version(3)\n",
    "dataset = version.download(\"yolov7\")\n",
    "\n"
   ]
  },
  {
   "cell_type": "code",
   "execution_count": 1,
   "metadata": {},
   "outputs": [
    {
     "name": "stdout",
     "output_type": "stream",
     "text": [
      "False\n"
     ]
    }
   ],
   "source": [
    "import torch\n",
    "print(torch.cuda.is_available())\n"
   ]
  },
  {
   "cell_type": "code",
   "execution_count": 2,
   "metadata": {},
   "outputs": [
    {
     "name": "stderr",
     "output_type": "stream",
     "text": [
      "C:\\Users\\jkapi\\AppData\\Local\\Programs\\Python\\Python310\\python.exe: can't open file 'c:\\\\Work\\\\Coding\\\\Celebal\\\\week10\\\\train.py': [Errno 2] No such file or directory\n"
     ]
    }
   ],
   "source": [
    "!python train.py --img 640 --batch 16 --epochs 100 --data C:/Work/Coding/Celebal/week10/yolov7/all_finalize3/data.yaml --cfg cfg/training/yolov7.yaml --hyp data/hyp.scratch.custom.yaml --weights 'yolov7.pt' --device cpu\n"
   ]
  }
 ],
 "metadata": {
  "kernelspec": {
   "display_name": "jkapi-0Ggu7FAl",
   "language": "python",
   "name": "python3"
  },
  "language_info": {
   "codemirror_mode": {
    "name": "ipython",
    "version": 3
   },
   "file_extension": ".py",
   "mimetype": "text/x-python",
   "name": "python",
   "nbconvert_exporter": "python",
   "pygments_lexer": "ipython3",
   "version": "3.10.7"
  }
 },
 "nbformat": 4,
 "nbformat_minor": 2
}
